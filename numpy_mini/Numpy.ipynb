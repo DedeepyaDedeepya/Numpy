{
  "nbformat": 4,
  "nbformat_minor": 0,
  "metadata": {
    "colab": {
      "provenance": []
    },
    "kernelspec": {
      "name": "python3",
      "display_name": "Python 3"
    },
    "language_info": {
      "name": "python"
    }
  },
  "cells": [
    {
      "cell_type": "code",
      "execution_count": 1,
      "metadata": {
        "colab": {
          "base_uri": "https://localhost:8080/"
        },
        "id": "eDJwZEeNeVV-",
        "outputId": "54221647-1230-4198-8ed3-ad1db825523d"
      },
      "outputs": [
        {
          "output_type": "execute_result",
          "data": {
            "text/plain": [
              "array([[55, 85, 35, 68],\n",
              "       [90, 40, 32, 22],\n",
              "       [99, 66, 97, 51]])"
            ]
          },
          "metadata": {},
          "execution_count": 1
        }
      ],
      "source": [
        "import numpy as np\n",
        "students=np.array([[1,2,3]])\n",
        "subjects=np.array([[1,2,3,4]])\n",
        "marks=np.array([[55,85,35,68],\n",
        "               [90,40,32,22],\n",
        "               [99,66,97,51]])\n",
        "students\n",
        "subjects\n",
        "marks"
      ]
    },
    {
      "cell_type": "code",
      "source": [
        "print(subjects.ndim)\n",
        "print(marks.ndim)\n"
      ],
      "metadata": {
        "colab": {
          "base_uri": "https://localhost:8080/"
        },
        "id": "I6Ait8xTeWaa",
        "outputId": "14f4c178-8e37-4fc1-a7e2-74b598203af8"
      },
      "execution_count": 2,
      "outputs": [
        {
          "output_type": "stream",
          "name": "stdout",
          "text": [
            "2\n",
            "2\n"
          ]
        }
      ]
    },
    {
      "cell_type": "code",
      "source": [
        "print(subjects.size)\n",
        "print(marks.size)"
      ],
      "metadata": {
        "colab": {
          "base_uri": "https://localhost:8080/"
        },
        "id": "n4IiWMVgeY7y",
        "outputId": "81806b04-2e3d-4f4a-824d-3492b8e04c3f"
      },
      "execution_count": 3,
      "outputs": [
        {
          "output_type": "stream",
          "name": "stdout",
          "text": [
            "4\n",
            "12\n"
          ]
        }
      ]
    },
    {
      "cell_type": "code",
      "source": [
        "reshaped=marks.reshape(4,3)\n",
        "reshaped"
      ],
      "metadata": {
        "colab": {
          "base_uri": "https://localhost:8080/"
        },
        "id": "jWTZeQ02ehGA",
        "outputId": "d304e900-c85f-42fc-f248-05c0d4d4f736"
      },
      "execution_count": 4,
      "outputs": [
        {
          "output_type": "execute_result",
          "data": {
            "text/plain": [
              "array([[55, 85, 35],\n",
              "       [68, 90, 40],\n",
              "       [32, 22, 99],\n",
              "       [66, 97, 51]])"
            ]
          },
          "metadata": {},
          "execution_count": 4
        }
      ]
    },
    {
      "cell_type": "code",
      "source": [
        "transpose=marks.T\n",
        "transpose"
      ],
      "metadata": {
        "colab": {
          "base_uri": "https://localhost:8080/"
        },
        "id": "sHoeaCFnekC4",
        "outputId": "645b25b0-f98b-4e1c-f39a-97bfb7be18bd"
      },
      "execution_count": 5,
      "outputs": [
        {
          "output_type": "execute_result",
          "data": {
            "text/plain": [
              "array([[55, 90, 99],\n",
              "       [85, 40, 66],\n",
              "       [35, 32, 97],\n",
              "       [68, 22, 51]])"
            ]
          },
          "metadata": {},
          "execution_count": 5
        }
      ]
    },
    {
      "cell_type": "code",
      "source": [
        "np.split(subjects,1)"
      ],
      "metadata": {
        "colab": {
          "base_uri": "https://localhost:8080/"
        },
        "id": "5XGiA0DKemd4",
        "outputId": "920cc834-6ffd-4e30-e47f-31e05dfec714"
      },
      "execution_count": 6,
      "outputs": [
        {
          "output_type": "execute_result",
          "data": {
            "text/plain": [
              "[array([[1, 2, 3, 4]])]"
            ]
          },
          "metadata": {},
          "execution_count": 6
        }
      ]
    },
    {
      "cell_type": "code",
      "source": [
        "marks[0,0]=11\n",
        "marks"
      ],
      "metadata": {
        "colab": {
          "base_uri": "https://localhost:8080/"
        },
        "id": "eiluwa1meoQq",
        "outputId": "318325d6-578c-4ab4-8b4e-c51d4f0fbec2"
      },
      "execution_count": 7,
      "outputs": [
        {
          "output_type": "execute_result",
          "data": {
            "text/plain": [
              "array([[11, 85, 35, 68],\n",
              "       [90, 40, 32, 22],\n",
              "       [99, 66, 97, 51]])"
            ]
          },
          "metadata": {},
          "execution_count": 7
        }
      ]
    },
    {
      "cell_type": "code",
      "source": [
        "marks[0,0]=0\n",
        "marks"
      ],
      "metadata": {
        "colab": {
          "base_uri": "https://localhost:8080/"
        },
        "id": "VH5n38RZeqSr",
        "outputId": "8ef4ddfd-f481-46f2-8d64-750dfb1af279"
      },
      "execution_count": 8,
      "outputs": [
        {
          "output_type": "execute_result",
          "data": {
            "text/plain": [
              "array([[ 0, 85, 35, 68],\n",
              "       [90, 40, 32, 22],\n",
              "       [99, 66, 97, 51]])"
            ]
          },
          "metadata": {},
          "execution_count": 8
        }
      ]
    }
  ]
}